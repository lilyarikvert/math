{
 "cells": [
  {
   "cell_type": "markdown",
   "id": "0bf40cd4",
   "metadata": {},
   "source": [
    "# Задание 1"
   ]
  },
  {
   "cell_type": "code",
   "execution_count": 102,
   "id": "7bded62a",
   "metadata": {},
   "outputs": [
    {
     "name": "stdout",
     "output_type": "stream",
     "text": [
      "Коэффициенты a = 0.49987445722371016 b = 0.25359392177469475\n"
     ]
    },
    {
     "data": {
      "text/plain": [
       "<matplotlib.legend.Legend at 0x27022686d90>"
      ]
     },
     "execution_count": 102,
     "metadata": {},
     "output_type": "execute_result"
    },
    {
     "data": {
      "image/png": "[encoded data removed]",
      "text/plain": [
       "<Figure size 432x288 with 1 Axes>"
      ]
     },
     "metadata": {
      "needs_background": "light"
     },
     "output_type": "display_data"
    }
   ],
   "source": [
    "import random\n",
    "import numpy as np\n",
    "from sklearn.linear_model import LinearRegression\n",
    "import matplotlib.pyplot as plt\n",
    "\n",
    "\"\"\"Для функции истинная прямая y= 0.5x: \"\"\"\n",
    "x = [i for i in range (10)]\n",
    "y = [num * 0.5 for num in x] # [0.5, 1.0, 1.5, 2.0, 2.5, 3.0, 3.5, 4.0, 4.5, 5.0]\n",
    "\n",
    "\"\"\"Далее найдем эксперементальные данные, где функция random.random() принимает случайные\n",
    " значения от 0 до 1(на графике обозначим за k)\"\"\"\n",
    "\n",
    "x_exp=[i for i in range (10)]\n",
    "y_exp= [0.5*(num+random.random()) for num in x_exp]\n",
    "\n",
    "\"\"\"Определим данные, с которыми предстоит работать, а также представим модель линейной регрессии.\"\"\"\n",
    "\n",
    "x_exp = np.array(x_exp).reshape((-1, 1))\n",
    "y_exp = np.array(y_exp)\n",
    "model = LinearRegression().fit(x_exp,y_exp)\n",
    "\n",
    "\"Найдем коэффициенты a и b\"\n",
    "a = float(model.coef_)\n",
    "b = float(model.intercept_)\n",
    "print(f\"Коэффициенты a = {a} b = {b}\")\n",
    "\n",
    "\"\"\"Построим линию линейной регрессии\"\"\"\n",
    "x_for_line_reg = [i for i in range(10)]\n",
    "y_for_line_reg = [num*a+b for num in x_for_line_reg]\n",
    "\n",
    "\"\"\"Отобразим на графике\"\"\"\n",
    "plt.grid(True)\n",
    "plt.plot(x,y,label='y=0.5x')\n",
    "plt.plot(x_for_line_reg, y_for_line_reg, label = 'y=ax+b')\n",
    "plt.plot(x_exp, y_exp, \"k.\", label=\"y=0.5(x+k)\")\n",
    "plt.legend()"
   ]
  },
  {
   "cell_type": "markdown",
   "id": "b6a22f0a",
   "metadata": {},
   "source": [
    "Таким образом, по экспериментальным данным найдены оптимальные коэффициенты a и b в искомом уравнении прямой, а значит, и ”наилучшая” прямая,которая описывает экспериментальную зависимость y(x)."
   ]
  },
  {
   "cell_type": "markdown",
   "id": "a244e682",
   "metadata": {},
   "source": [
    "# Задание 2"
   ]
  },
  {
   "cell_type": "code",
   "execution_count": 2,
   "id": "d0b7feba",
   "metadata": {},
   "outputs": [
    {
     "name": "stdout",
     "output_type": "stream",
     "text": [
      "Частота элементов:\n",
      "0:9999\n",
      "1:10137\n",
      "2:9908\n",
      "3:10025\n",
      "4:9971\n",
      "5:10026\n",
      "6:10029\n",
      "7:10025\n",
      "8:9978\n",
      "9:9902\n",
      "Сумма элементов: 100000\n"
     ]
    }
   ],
   "source": [
    "num_count = {}\n",
    "with open('pi.txt', encoding= 'utf-8') as f:\n",
    "    for line in f:\n",
    "        num_count[\"0\"] = line.count(\"0\")\n",
    "        num_count[\"1\"] = line.count(\"1\")\n",
    "        num_count[\"2\"] = line.count(\"2\")\n",
    "        num_count[\"3\"] = line.count(\"3\")\n",
    "        num_count[\"4\"] = line.count(\"4\")\n",
    "        num_count[\"5\"] = line.count(\"5\")\n",
    "        num_count[\"6\"] = line.count(\"6\")\n",
    "        num_count[\"7\"] = line.count(\"7\")\n",
    "        num_count[\"8\"] = line.count(\"8\")\n",
    "        num_count[\"9\"] = line.count(\"9\")\n",
    "        \n",
    "print(\"Частота элементов:\")\n",
    "for key, value in num_count.items():\n",
    "    print(f'{key}:{value}')\n",
    "print(f'Сумма элементов: {sum(num_count.values())}')\n",
    "\n"
   ]
  },
  {
   "attachments": {
    "image.png": {
     "image/png": "[encoded data removed]"
    }
   },
   "cell_type": "markdown",
   "id": "c154070b",
   "metadata": {},
   "source": [
    "Меру отклонения Пирсона найдем по следующей формуле:\n",
    "![image.png](attachment:image.png)"
   ]
  },
  {
   "cell_type": "code",
   "execution_count": 3,
   "id": "2d6e9982",
   "metadata": {},
   "outputs": [
    {
     "name": "stdout",
     "output_type": "stream",
     "text": [
      "Критерий согласия Пирсона для элементов: \n",
      "0:0.0001\n",
      "1:1.8769\n",
      "2:0.8464\n",
      "3:0.0625\n",
      "4:0.0841\n",
      "5:0.0676\n",
      "6:0.0841\n",
      "7:0.0625\n",
      "8:0.0484\n",
      "9:0.9604\n",
      "Сумма χ2:4.093\n"
     ]
    }
   ],
   "source": [
    "chi_quad = 0\n",
    "n=-1\n",
    "print('Критерий согласия Пирсона для элементов: ')\n",
    "for i in num_count.values():\n",
    "    dev_measure = ((i-sum(num_count.values())*0.1)**2)/(sum(num_count.values())*0.1)\n",
    "    print(f'{n+1}:{dev_measure}')\n",
    "    chi_quad+=dev_measure\n",
    "    n+=1\n",
    "print(f'Сумма χ2:{chi_quad}')"
   ]
  },
  {
   "cell_type": "markdown",
   "id": "18817147",
   "metadata": {},
   "source": [
    "Для рассчёта правосторонней вероятности распределения хи-квадрат используем формулу(Excel):\n",
    "\n",
    "=ХИ2.РАСП.ПХ(χ2;степени_свободы)\n",
    "\n",
    "=ХИ2.РАСП.ПХ(4,093;9)\n",
    "\n",
    "#### α ≈ 0,9 -- максимальный уровень значимости, на котором принимается гипотеза H0(распределение знаков десятичной записи числа π – равномерное)"
   ]
  }
 ],
 "metadata": {
  "kernelspec": {
   "display_name": "Python 3 (ipykernel)",
   "language": "python",
   "name": "python3"
  },
  "language_info": {
   "codemirror_mode": {
    "name": "ipython",
    "version": 3
   },
   "file_extension": ".py",
   "mimetype": "text/x-python",
   "name": "python",
   "nbconvert_exporter": "python",
   "pygments_lexer": "ipython3",
   "version": "3.9.12"
  }
 },
 "nbformat": 4,
 "nbformat_minor": 5
}
